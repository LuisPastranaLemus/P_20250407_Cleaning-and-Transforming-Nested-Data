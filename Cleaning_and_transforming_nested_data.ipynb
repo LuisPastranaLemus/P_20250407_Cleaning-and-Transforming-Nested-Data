{
 "cells": [
  {
   "cell_type": "markdown",
   "id": "da1c0c0f",
   "metadata": {},
   "source": [
    "Still serving as a member of the analytics team, in the first project we laid the groundwork for the second phase. Here we are! Now you'll apply advanced techniques to extract meaningful data, addressing the client's growing needs."
   ]
  },
  {
   "cell_type": "markdown",
   "id": "2508c25a",
   "metadata": {},
   "source": [
    "As you know, businesses collect and store data in a particular way. Store 1 wants to store all of its customer information in a table.\n",
    "\n",
    "| user_id | user_name | user_age | purchase_category | spending_per_category |\n",
    "| --- | --- | --- | --- | --- |\n",
    "| '32415' | 'mike', 'reed' | 32 | 'electronics', 'sport', 'books' | 894, 213, 173 |\n",
    "| '31980' | 'kate', 'morgan' | 24 | 'clothes', 'shoes' | 439, 390 |\n",
    "\n",
    "In technical terms, a table is simply a nested list containing a sublist for each user.\n",
    "\n",
    "Store 1 has created such a table for its users. It is stored in the variable \"users.\" Each sublist contains the user ID, first and last name, age, favorite categories, and the amount spent in each category."
   ]
  },
  {
   "cell_type": "markdown",
   "id": "f9966090",
   "metadata": {},
   "source": [
    "- **user_id:** The unique identifier for each user.\n",
    "- **user_name:** The username.\n",
    "- **user_age:** The user's age.\n",
    "- **fav_categories:** The categories of items purchased by the user, such as 'ELECTRONICS', 'SPORTS', 'BOOKS', etc.\n",
    "- **total_spendings:** The list of integers indicating the amount spent on each of their favorite categories."
   ]
  },
  {
   "cell_type": "code",
   "execution_count": null,
   "id": "40171c10",
   "metadata": {},
   "outputs": [],
   "source": [
    "users = [\n",
    "    ['32415', ' mike_reed ', 32.0, ['ELECTRONICS', 'SPORT', 'BOOKS'], [894, 213, 173]],\n",
    "    ['31980', 'kate morgan', 24.0, ['CLOTHES', 'BOOKS'], [439, 390]],\n",
    "    ['32156', ' john doe ', 37.0, ['ELECTRONICS', 'HOME', 'FOOD'], [459, 120, 99]],\n",
    "    ['32761', 'SAMANTHA SMITH', 29.0, ['CLOTHES',\n",
    "                                       'ELECTRONICS', 'BEAUTY'], [299, 679, 85]],\n",
    "    ['32984', 'David White', 41.0, ['BOOKS', 'HOME', 'SPORT'], [234, 329, 243]],\n",
    "    ['33001', 'emily brown', 26.0, ['BEAUTY', 'HOME', 'FOOD'], [213, 659, 79]],\n",
    "    ['33767', ' Maria Garcia', 33.0, ['CLOTHES', 'FOOD', 'BEAUTY'], [499, 189, 63]],\n",
    "    ['33912', 'JOSE MARTINEZ', 22.0, ['SPORT', 'ELECTRONICS', 'HOME'], [259, 549, 109]],\n",
    "    ['34009', 'lisa wilson ', 35.0, ['HOME', 'BOOKS', 'CLOTHES'], [329, 189, 329]],\n",
    "    ['34278', 'James Lee', 28.0, ['BEAUTY', 'CLOTHES', 'ELECTRONICS'], [189, 299, 579]],\n",
    "]"
   ]
  },
  {
   "cell_type": "markdown",
   "id": "7c74d2cb",
   "metadata": {},
   "source": [
    "# Step 1\n",
    "\n",
    "In the last task of the first part of this project, you wrote code to:\n",
    "\n",
    "1. Remove all leading and trailing spaces from names, as well as any underscores.\n",
    "2. Convert all ages to integers.\n",
    "3. Separate all first and last names into a sublist.\n",
    "\n",
    "Let's now make it a function so we can use it to identify any customer. Name your function `clean_user`. It should receive a list with all the customer's information (user_info), as well as two integers. One indicates the index of the customer's first name, and the other is the index of the customer's age in the list. It should return the cleaned list after applying all the above changes. Test it by calling it, passing it the `test_user[]` list, and then display it on the screen."
   ]
  },
  {
   "cell_type": "code",
   "execution_count": null,
   "id": "95a659d4",
   "metadata": {},
   "outputs": [
    {
     "name": "stdout",
     "output_type": "stream",
     "text": [
      "['32415', ['mike', 'reed'], 32, ['ELECTRONICS', 'SPORT', 'BOOKS'], [894, 213, 173]]\n"
     ]
    }
   ],
   "source": [
    "# Define your function here\n",
    "def clean_user(user_info, name_index, age_index):\n",
    "\n",
    "    # Step 1: Remove leading and trailing spaces and hyphens from the name\n",
    "    user_name_1 = user_info[name_index].replace('_', ' ').strip()\n",
    "\n",
    "    # Step 2: Convert the age to an integer\n",
    "    user_age_1 = int(user_info[age_index])\n",
    "\n",
    "    # Step 3: Separate the first and last names into a sublist\n",
    "    user_name_1 = user_name_1.split()\n",
    "\n",
    "    # Prepare the list with the full user information\n",
    "    # Replace the original name and age with the cleaned data\n",
    "    user_info[name_index] = user_name_1\n",
    "    user_info[age_index] = user_age_1\n",
    "\n",
    "    # Step 4: Return the list with the cleaned information\n",
    "\n",
    "    return user_info\n",
    "\n",
    "\n",
    "# Test the function\n",
    "test_user = ['32415', ' mike_reed', 32.0, [\n",
    "    'ELECTRONICS', 'SPORT', 'BOOKS'], [894, 213, 173]]\n",
    "name_index = 1\n",
    "age_index = 2\n",
    "\n",
    "print(clean_user(test_user, name_index, age_index))"
   ]
  },
  {
   "cell_type": "markdown",
   "id": "79ff9995",
   "metadata": {},
   "source": [
    "********Hint********\n",
    "\n",
    "To implement the `clean_user` function, perform the following steps:\n",
    "\n",
    "1. **Trim and Replace:** Use `strip()` to remove leading and trailing spaces from the user's name and `replace('_', ' ')` to remove underscores with spaces.\n",
    "2. **Convert Age:** Convert the age to an integer using the `int()` function.\n",
    "3. **Split Name:** Use the `split()` method to separate the first and last names, creating a sublist.\n",
    "\n",
    "Be sure to modify the `user_info` list that appears by updating the first and last names with the cleaned data before returning the list. Test your function with a sample user to verify that it works correctly."
   ]
  },
  {
   "cell_type": "markdown",
   "id": "228842d0",
   "metadata": {},
   "source": [
    "# Step 2\n",
    "\n",
    "Notice that all favorite categories are stored in uppercase. Fill a new list called `fav_categories_low` with the same categories, but in lowercase, by iterating over the values ​​in the `fav_categories` list, modifying them, and then adding the new values ​​to the `fav_categories_low` list. As always, display the final result."
   ]
  },
  {
   "cell_type": "code",
   "execution_count": 3,
   "id": "946daf35",
   "metadata": {},
   "outputs": [
    {
     "name": "stdout",
     "output_type": "stream",
     "text": [
      "['electronics', 'sport', 'books']\n"
     ]
    }
   ],
   "source": [
    "fav_categories = ['ELECTRONICS', 'SPORT', 'BOOKS']\n",
    "fav_categories_low = []\n",
    "\n",
    "fav_categories_low = [category.lower() for category in fav_categories]\n",
    "\n",
    "print(fav_categories_low)"
   ]
  },
  {
   "cell_type": "markdown",
   "id": "1837d843",
   "metadata": {},
   "source": [
    "********Hint********\n",
    "\n",
    "Create a `for` loop that iterates over the `fav_categories` list. Use the `lower()` method to convert each category to lowercase. Then, use the `append()` method to add the updated values ​​to the `fav_categories_low` list."
   ]
  },
  {
   "cell_type": "markdown",
   "id": "2252c186",
   "metadata": {},
   "source": [
    "# Step 3\n",
    "\n",
    "Now let's do the same thing, but for each of the company's users. Fill a new list called `users_categories_low` with the same users, but with their categories in lowercase. Iterate over the values ​​in the `users` list, then iterate over the values ​​in `user_categories`, modifying them, and then add the new user values ​​to the `users_categories_low` list. As always, display the final result."
   ]
  },
  {
   "cell_type": "code",
   "execution_count": null,
   "id": "85d1a95f",
   "metadata": {},
   "outputs": [
    {
     "name": "stdout",
     "output_type": "stream",
     "text": [
      "[['32415', ' mike_reed ', 32.0, ['electronics', 'sport', 'books'], [894, 213, 173]], ['31980', 'kate morgan', 24.0, ['clothes', 'books'], [439, 390]], ['32156', ' john doe ', 37.0, ['electronics', 'home', 'food'], [459, 120, 99]], ['32761', 'SAMANTHA SMITH', 29.0, ['clothes', 'electronics', 'beauty'], [299, 679, 85]], ['32984', 'David White', 41.0, ['books', 'home', 'sport'], [234, 329, 243]], ['33001', 'emily brown', 26.0, ['beauty', 'home', 'food'], [213, 659, 79]], ['33767', ' Maria Garcia', 33.0, ['clothes', 'food', 'beauty'], [499, 189, 63]], ['33912', 'JOSE MARTINEZ', 22.0, ['sport', 'electronics', 'home'], [259, 549, 109]], ['34009', 'lisa wilson ', 35.0, ['home', 'books', 'clothes'], [329, 189, 329]], ['34278', 'James Lee', 28.0, ['beauty', 'clothes', 'electronics'], [189, 299, 579]]]\n"
     ]
    }
   ],
   "source": [
    "users = [\n",
    "    ['32415', ' mike_reed ', 32.0, ['ELECTRONICS', 'SPORT', 'BOOKS'], [894, 213, 173]],\n",
    "    ['31980', 'kate morgan', 24.0, ['CLOTHES', 'BOOKS'], [439, 390]],\n",
    "    ['32156', ' john doe ', 37.0, ['ELECTRONICS', 'HOME', 'FOOD'], [459, 120, 99]],\n",
    "    ['32761', 'SAMANTHA SMITH', 29.0, ['CLOTHES',\n",
    "                                       'ELECTRONICS', 'BEAUTY'], [299, 679, 85]],\n",
    "    ['32984', 'David White', 41.0, ['BOOKS', 'HOME', 'SPORT'], [234, 329, 243]],\n",
    "    ['33001', 'emily brown', 26.0, ['BEAUTY', 'HOME', 'FOOD'], [213, 659, 79]],\n",
    "    ['33767', ' Maria Garcia', 33.0, ['CLOTHES', 'FOOD', 'BEAUTY'], [499, 189, 63]],\n",
    "    ['33912', 'JOSE MARTINEZ', 22.0, ['SPORT', 'ELECTRONICS', 'HOME'], [259, 549, 109]],\n",
    "    ['34009', 'lisa wilson ', 35.0, ['HOME', 'BOOKS', 'CLOTHES'], [329, 189, 329]],\n",
    "    ['34278', 'James Lee', 28.0, ['BEAUTY', 'CLOTHES', 'ELECTRONICS'], [189, 299, 579]],\n",
    "]\n",
    "\n",
    "users_categories_low = []\n",
    "\n",
    "for user in users:\n",
    "    categories_low = [category.lower() for category in user[3]]\n",
    "\n",
    "    users_categories_low.append(user.copy())\n",
    "    users_categories_low[-1].pop(3)\n",
    "    users_categories_low[-1].insert(3, categories_low)\n",
    "\n",
    "# Now you can print or use the modified list\n",
    "print(users_categories_low)"
   ]
  },
  {
   "cell_type": "markdown",
   "id": "feee22bf",
   "metadata": {},
   "source": [
    "********Hint********\n",
    "\n",
    "Create a `for` loop that iterates over the `users` list. Then create another `for` loop that iterates over the user categories to access and modify the user. Use the `lower()` method to convert each category to lowercase. Then, modify the user by removing the previous category list with `pop()` and inserting the new one in its place with `insert()`. Then, use the `append()` method to add the updated users to the `users_categories_low` list."
   ]
  },
  {
   "cell_type": "markdown",
   "id": "e6f57dd1",
   "metadata": {},
   "source": [
    "# Step 4\n",
    "\n",
    "Now, let's complete the code for our `clean_user` function to clean up the category:\n",
    "1. Add another parameter with the category index.\n",
    "2. Lowercase all names before applying \"strip\" and \"replace.\"\n",
    "\n",
    "Next, create a loop and apply your function to the entire list of users, adding your results to the `users_clean` list. Then display it."
   ]
  },
  {
   "cell_type": "code",
   "execution_count": null,
   "id": "2778c55d",
   "metadata": {},
   "outputs": [
    {
     "name": "stdout",
     "output_type": "stream",
     "text": [
      "[['32415', ['mike', 'reed'], 32, ['electronics', 'sport', 'books'], [894, 213, 173]], ['31980', ['kate', 'morgan'], 24, ['clothes', 'books'], [439, 390]], ['32156', ['john', 'doe'], 37, ['electronics', 'home', 'food'], [459, 120, 99]], ['32761', ['samantha', 'smith'], 29, ['clothes', 'electronics', 'beauty'], [299, 679, 85]], ['32984', ['david', 'white'], 41, ['books', 'home', 'sport'], [234, 329, 243]], ['33001', ['emily', 'brown'], 26, ['beauty', 'home', 'food'], [213, 659, 79]], ['33767', ['maria', 'garcia'], 33, ['clothes', 'food', 'beauty'], [499, 189, 63]], ['33912', ['jose', 'martinez'], 22, ['sport', 'electronics', 'home'], [259, 549, 109]], ['34009', ['lisa', 'wilson'], 35, ['home', 'books', 'clothes'], [329, 189, 329]], ['34278', ['james', 'lee'], 28, ['beauty', 'clothes', 'electronics'], [189, 299, 579]]]\n"
     ]
    }
   ],
   "source": [
    "def clean_user(user_info, name_index, age_index, cat_index):\n",
    "\n",
    "    # Step 1: Make everything lowercase and remove leading and trailing spaces and hyphens from the name\n",
    "    user_name_1 = user_info[name_index].lower().replace('_', ' ').strip()\n",
    "\n",
    "    # Step 2: Convert the age to an integer\n",
    "    user_age_1 = int(user_info[age_index])\n",
    "\n",
    "    # Step 3: Separate the first and last names into a sublist\n",
    "    user_name_1 = user_name_1.split()\n",
    "\n",
    "    # Step 4: Lowercase categories\n",
    "    categories_low = [category.lower() for category in user_info[cat_index]]\n",
    "\n",
    "    # Prepare the list with the full user information\n",
    "    # Replace the original name and age with the cleaned data\n",
    "\n",
    "    user_info[name_index] = user_name_1\n",
    "    user_info[age_index] = user_age_1\n",
    "    user_info[cat_index] = categories_low\n",
    "\n",
    "    return user_info\n",
    "\n",
    "\n",
    "users = [\n",
    "    ['32415', 'mike_reed', 32.0, ['ELECTRONICS', 'SPORT', 'BOOKS'], [894, 213, 173]],\n",
    "    ['31980', 'kate morgan', 24.0, ['CLOTHES', 'BOOKS'], [439, 390]],\n",
    "    ['32156', 'john doe', 37.0, ['ELECTRONICS', 'HOME', 'FOOD'], [459, 120, 99]],\n",
    "    ['32761', 'SAMANTHA SMITH', 29.0, ['CLOTHES',\n",
    "                                       'ELECTRONICS', 'BEAUTY'], [299, 679, 85]],\n",
    "    ['32984', 'David White', 41.0, ['BOOKS', 'HOME', 'SPORT'], [234, 329, 243]],\n",
    "    ['33001', 'emily brown', 26.0, ['BEAUTY', 'HOME', 'FOOD'], [213, 659, 79]],\n",
    "    ['33767', 'Maria Garcia', 33.0, ['CLOTHES', 'FOOD', 'BEAUTY'], [499, 189, 63]],\n",
    "    ['33912', 'JOSE MARTINEZ', 22.0, ['SPORT', 'ELECTRONICS', 'HOME'], [259, 549, 109]],\n",
    "    ['34009', 'lisa wilson', 35.0, ['HOME', 'BOOKS', 'CLOTHES'], [329, 189, 329]],\n",
    "    ['34278', 'James Lee', 28.0, ['BEAUTY', 'CLOTHES', 'ELECTRONICS'], [189, 299, 579]],\n",
    "]\n",
    "\n",
    "name_index = 1\n",
    "age_index = 2\n",
    "cat_index = 3\n",
    "users_cleaned = []\n",
    "\n",
    "for user in users:\n",
    "    users_cleaned.append(clean_user(user, name_index, age_index, cat_index))\n",
    "\n",
    "\n",
    "print(users_cleaned)"
   ]
  },
  {
   "cell_type": "markdown",
   "id": "84d8492c",
   "metadata": {},
   "source": [
    "********Hint********\n",
    "\n",
    "Perform the following steps to implement the `clean_user` function:\n",
    "\n",
    "1. **Copy and adapt:** Copy the code from your previous `clean_user` function.\n",
    "\n",
    "2. **Lowercase the name:** Before applying `split()` and `replace()`, apply `lower()` to the customer's name.\n",
    "\n",
    "3. **Process the categories:** Add a new section to manage the categories. Lowercase each category in the list and store them in a new list.\n",
    "\n",
    "4. **Run your code:** Make sure the `clean_user` function updates the `user_info` list with the cleaned name, age, and categories. Loop through the `users` list and call the `clean_user` function, passing the user, `name_index`, `age_index`, and `cat_index` to specify the correct indexes for name, age, and categories, respectively.\n",
    "\n",
    "5. Save each newly cleaned user to the new `users_cleaned` list.\n",
    "\n",
    "Display the `users_cleaned` list to ensure your code performs the appropriate transformations."
   ]
  },
  {
   "cell_type": "markdown",
   "id": "91ff4c33",
   "metadata": {},
   "source": [
    "# Step 5\n",
    "\n",
    "The company wants to know its total revenue and asks you to provide this value.\n",
    "To calculate the company's revenue, follow these steps:\n",
    "\n",
    "1. Use `for` to iterate over the `users` list.\n",
    "2. Extract the list of expenses for each user and add the values.\n",
    "3. Update the revenue value with the total for each user.\n",
    "\n",
    "This will give you the company's total revenue, which you'll display on the screen at the end."
   ]
  },
  {
   "cell_type": "code",
   "execution_count": null,
   "id": "1a46ac72",
   "metadata": {},
   "outputs": [
    {
     "name": "stdout",
     "output_type": "stream",
     "text": [
      "9189\n"
     ]
    }
   ],
   "source": [
    "users = [['32415', ['mike', 'reed'], 32, ['electronics', 'sport', 'books'], [894, 213, 173]],\n",
    "         ['31980', ['kate', 'morgan'], 24, ['clothes', 'books'], [439, 390]],\n",
    "         ['32156', ['john', 'doe'], 37, [\n",
    "             'electronics', 'home', 'food'], [459, 120, 99]],\n",
    "         ['32761', ['samantha', 'smith'], 29, [\n",
    "             'clothes', 'electronics', 'beauty'], [299, 679, 85]],\n",
    "         ['32984', ['david', 'white'], 41, [\n",
    "             'books', 'home', 'sport'], [234, 329, 243]],\n",
    "         ['33001', ['emily', 'brown'], 26, [\n",
    "             'beauty', 'home', 'food'], [213, 659, 79]],\n",
    "         ['33767', ['maria', 'garcia'], 33, [\n",
    "             'clothes', 'food', 'beauty'], [499, 189, 63]],\n",
    "         ['33912', ['jose', 'martinez'], 22, [\n",
    "             'sport', 'electronics', 'home'], [259, 549, 109]],\n",
    "         ['34009', ['lisa', 'wilson'], 35, [\n",
    "             'home', 'books', 'clothes'], [329, 189, 329]],\n",
    "         ['34278', ['james', 'lee'], 28, ['beauty', 'clothes', 'electronics'], [189, 299, 579]]]\n",
    "\n",
    "revenue = 0\n",
    "\n",
    "for user in users:\n",
    "    revenue += sum(user[4])\n",
    "\n",
    "print(revenue)"
   ]
  },
  {
   "cell_type": "markdown",
   "id": "bfb7b0e2",
   "metadata": {},
   "source": [
    "********Hint********\n",
    "\n",
    "To extract the list of expenses made by a user, use indexing and assign it to the variable `spendings_list`. Then, use the built-in function to calculate the sum of `spending_list`. Finally, update the value of `revenue` by adding `total_spendings` to it using the augmented assignment."
   ]
  },
  {
   "cell_type": "markdown",
   "id": "54d02e3a",
   "metadata": {},
   "source": [
    "# Step 6\n",
    "\n",
    "The company wants to offer discounts to its loyal customers. Customers who make purchases totaling more than $1,500 are considered loyal and will receive a discount.\n",
    "\n",
    "Our goal is to create a while loop that checks the total amount spent and stops when it reaches it. To simulate new purchases, the variable new_purchase generates a number between 30 and 80 on each iteration of the loop. This represents the amount spent on a new purchase and is what you should add to the total.\n",
    "\n",
    "Once the target amount is reached and the while loop completes, the final amount will be displayed."
   ]
  },
  {
   "cell_type": "code",
   "execution_count": null,
   "id": "1748b163",
   "metadata": {},
   "outputs": [
    {
     "name": "stdout",
     "output_type": "stream",
     "text": [
      "A purchase of 48 has been added, current amount = 1328.\n",
      "A purchase of 76 has been added, current amount = 1404.\n",
      "A purchase of 56 has been added, current amount = 1460.\n",
      "A purchase of 58 has been added, current amount = 1518.\n",
      "The target amount of 1500 has been reached.\n",
      "1518\n"
     ]
    }
   ],
   "source": [
    "from random import randint\n",
    "\n",
    "total_amount_spent = 1280\n",
    "target_amount = 1500\n",
    "\n",
    "while total_amount_spent <= target_amount:\n",
    "    new_purchase = randint(30, 80)  # generate a random number from 30 to 80\n",
    "    total_amount_spent += new_purchase\n",
    "    print(\n",
    "        f\"A purchase of {new_purchase} has been added, current amount = {total_amount_spent}.\")\n",
    "else:\n",
    "    print(\"The target amount of 1500 has been reached.\")\n",
    "    print(total_amount_spent)"
   ]
  },
  {
   "cell_type": "markdown",
   "id": "120aa855",
   "metadata": {},
   "source": [
    "********Hint********\n",
    "\n",
    "In the `while` loop, you must compare `total_amount_spent` with `target_amount`. During each iteration of the loop, update the `total_amount_spent` variable by adding the value `new_purchase`."
   ]
  },
  {
   "cell_type": "markdown",
   "id": "98ea88c5",
   "metadata": {},
   "source": [
    "# Step 7\n",
    "\n",
    "Scroll through the list of users we provided and display the names of customers under the age of 30."
   ]
  },
  {
   "cell_type": "code",
   "execution_count": null,
   "id": "4f603a30",
   "metadata": {},
   "outputs": [
    {
     "name": "stdout",
     "output_type": "stream",
     "text": [
      "kate morgan\n",
      "samantha smith\n",
      "emily brown\n",
      "jose martinez\n",
      "james lee\n"
     ]
    }
   ],
   "source": [
    "users = [['32415', ['mike', 'reed'], 32, ['electronics', 'sport', 'books'], [894, 213, 173]],\n",
    "         ['31980', ['kate', 'morgan'], 24, ['clothes', 'books'], [439, 390]],\n",
    "         ['32156', ['john', 'doe'], 37, [\n",
    "             'electronics', 'home', 'food'], [459, 120, 99]],\n",
    "         ['32761', ['samantha', 'smith'], 29, [\n",
    "             'clothes', 'electronics', 'beauty'], [299, 679, 85]],\n",
    "         ['32984', ['david', 'white'], 41, [\n",
    "             'books', 'home', 'sport'], [234, 329, 243]],\n",
    "         ['33001', ['emily', 'brown'], 26, [\n",
    "             'beauty', 'home', 'food'], [213, 659, 79]],\n",
    "         ['33767', ['maria', 'garcia'], 33, [\n",
    "             'clothes', 'food', 'beauty'], [499, 189, 63]],\n",
    "         ['33912', ['jose', 'martinez'], 22, [\n",
    "             'sport', 'electronics', 'home'], [259, 549, 109]],\n",
    "         ['34009', ['lisa', 'wilson'], 35, [\n",
    "             'home', 'books', 'clothes'], [329, 189, 329]],\n",
    "         ['34278', ['james', 'lee'], 28, ['beauty', 'clothes', 'electronics'], [189, 299, 579]]]\n",
    "\n",
    "\n",
    "for x in (list(user[1] for user in users if user[2] < 30)):\n",
    "    print(x[0], x[-1])"
   ]
  },
  {
   "cell_type": "markdown",
   "id": "104c212d",
   "metadata": {},
   "source": [
    "********Hint********\n",
    "\n",
    "Use a for loop to iterate over each row in the table. Use `if` inside a `for` loop to print the username. The `age` field has index 2."
   ]
  },
  {
   "cell_type": "markdown",
   "id": "2e43505e",
   "metadata": {},
   "source": [
    "# Step 8\n",
    "\n",
    "Display the names of users under 30 years old who have accumulated total spending over $1,000."
   ]
  },
  {
   "cell_type": "code",
   "execution_count": null,
   "id": "23707b1a",
   "metadata": {},
   "outputs": [
    {
     "name": "stdout",
     "output_type": "stream",
     "text": [
      "samantha smith\n",
      "james lee\n"
     ]
    }
   ],
   "source": [
    "users = [['32415', ['mike', 'reed'], 32, ['electronics', 'sport', 'books'], [894, 213, 173]],\n",
    "         ['31980', ['kate', 'morgan'], 24, ['clothes', 'books'], [439, 390]],\n",
    "         ['32156', ['john', 'doe'], 37, [\n",
    "             'electronics', 'home', 'food'], [459, 120, 99]],\n",
    "         ['32761', ['samantha', 'smith'], 29, [\n",
    "             'clothes', 'electronics', 'beauty'], [299, 679, 85]],\n",
    "         ['32984', ['david', 'white'], 41, [\n",
    "             'books', 'home', 'sport'], [234, 329, 243]],\n",
    "         ['33001', ['emily', 'brown'], 26, [\n",
    "             'beauty', 'home', 'food'], [213, 659, 79]],\n",
    "         ['33767', ['maria', 'garcia'], 33, [\n",
    "             'clothes', 'food', 'beauty'], [499, 189, 63]],\n",
    "         ['33912', ['jose', 'martinez'], 22, [\n",
    "             'sport', 'electronics', 'home'], [259, 549, 109]],\n",
    "         ['34009', ['lisa', 'wilson'], 35, [\n",
    "             'home', 'books', 'clothes'], [329, 189, 329]],\n",
    "         ['34278', ['james', 'lee'], 28, ['beauty', 'clothes', 'electronics'], [189, 299, 579]]]\n",
    "\n",
    "for x in list(user[1] for user in users if user[2] < 30 and sum(user[-1]) > 1000):\n",
    "    print(x[0], x[-1])"
   ]
  },
  {
   "cell_type": "markdown",
   "id": "4375684f",
   "metadata": {},
   "source": [
    "********Hint********\n",
    "\n",
    "Use a for loop to iterate over each row in the table. Use an `if` statement inside a `for` loop to print the username. The `age` field has index 2. Use the `sum` function to total the expenses and then check if it is greater than $1,000."
   ]
  },
  {
   "cell_type": "markdown",
   "id": "1888a88c",
   "metadata": {},
   "source": [
    "# Step 9\n",
    "\n",
    "Now we'll display the names and ages of all male and female users who have purchased clothes. Print the names and ages in the same print statement."
   ]
  },
  {
   "cell_type": "code",
   "execution_count": null,
   "id": "9d7c134e",
   "metadata": {},
   "outputs": [
    {
     "name": "stdout",
     "output_type": "stream",
     "text": [
      "kate morgan 24\n",
      "samantha smith 29\n",
      "maria garcia 33\n",
      "lisa wilson 35\n",
      "james lee 28\n"
     ]
    }
   ],
   "source": [
    "users = [['32415', ['mike', 'reed'], 32, ['electronics', 'sport', 'books'], [894, 213, 173]],\n",
    "         ['31980', ['kate', 'morgan'], 24, ['clothes', 'books'], [439, 390]],\n",
    "         ['32156', ['john', 'doe'], 37, [\n",
    "             'electronics', 'home', 'food'], [459, 120, 99]],\n",
    "         ['32761', ['samantha', 'smith'], 29, [\n",
    "             'clothes', 'electronics', 'beauty'], [299, 679, 85]],\n",
    "         ['32984', ['david', 'white'], 41, [\n",
    "             'books', 'home', 'sport'], [234, 329, 243]],\n",
    "         ['33001', ['emily', 'brown'], 26, [\n",
    "             'beauty', 'home', 'food'], [213, 659, 79]],\n",
    "         ['33767', ['maria', 'garcia'], 33, [\n",
    "             'clothes', 'food', 'beauty'], [499, 189, 63]],\n",
    "         ['33912', ['jose', 'martinez'], 22, [\n",
    "             'sport', 'electronics', 'home'], [259, 549, 109]],\n",
    "         ['34009', ['lisa', 'wilson'], 35, [\n",
    "             'home', 'books', 'clothes'], [329, 189, 329]],\n",
    "         ['34278', ['james', 'lee'], 28, ['beauty', 'clothes', 'electronics'], [189, 299, 579]]]\n",
    "\n",
    "filtered_users = [(user[1], user[2]) for user in users if \"clothes\" in user[3]]\n",
    "for name, age in filtered_users:\n",
    "    print(name[0], name[-1], age)"
   ]
  },
  {
   "cell_type": "markdown",
   "id": "9478831d",
   "metadata": {},
   "source": [
    "********Hint********\n",
    "\n",
    "Use the for loop to iterate over each row in the table. Then, use another loop to check if this user has purchased clothes, and if so, print the name and age within the same print statement, separating them with commas: `print(firstname, age)`."
   ]
  },
  {
   "cell_type": "markdown",
   "id": "63382401",
   "metadata": {},
   "source": [
    "# Step 10\n",
    "\n",
    "The address requires a function that provides information about customers, including their names, ages, and total spending, filtered by specific categories. Based on the code snippets above, we'll create a function called `get_client_by_cat` with the following specifications:\n",
    "\n",
    "1. **Parameters:**\n",
    "- **users:** a list of user data.\n",
    "- **id_index:** the index where the customer's ID is stored in the users list.\n",
    "- **name_index:** the index where the customer's name is stored in the users list.\n",
    "- **age_index:** the index where the customer's age is stored in the users list.\n",
    "- **category_index:** the index where the customer's shopping categories are listed.\n",
    "- **amounts_index:** the index where the amounts spent in each category are stored.\n",
    "- **filter_category:** a string representing the name of the category to filter customers by.\n",
    "\n",
    "2. **Output:**\n",
    "- The function returns a list of sublists. Each sublist contains:\n",
    "- The customer's ID number.\n",
    "- A sublist with the customer's first and last name.\n",
    "- The customer's age.\n",
    "- An integer representing the total amount spent by the customer.\n",
    "\n",
    "For example, if you call the function with the following parameters:\n",
    "\n",
    "```python\n",
    "get_client_by_cat([\n",
    "['32415', ['mike', 'reed'], 32, ['electronics', 'sport', 'books'], [894, 213, 173]]\n",
    "], 0, 1, 2, 3, 4, 'books')\n",
    "```\n",
    "\n",
    "The output will be:\n",
    "\n",
    "```python\n",
    "[['32415', ['mike', 'reed'], 32, 1280]]\n",
    "```\n",
    "\n",
    "This output shows that the customer with the ID '32415', named Mike Reed, age 32, spent a total of 1280 on the 'books' category and other purchases.\n",
    "\n",
    "After creating your function, call it with our list of users, the appropriate indexes, and the 'home' category, and display the resulting list."
   ]
  },
  {
   "cell_type": "code",
   "execution_count": null,
   "id": "45f4af9e",
   "metadata": {},
   "outputs": [
    {
     "name": "stdout",
     "output_type": "stream",
     "text": [
      "['32156', ['john', 'doe'], 37, 678]\n",
      "['32984', ['david', 'white'], 41, 806]\n",
      "['33001', ['emily', 'brown'], 26, 951]\n",
      "['33912', ['jose', 'martinez'], 22, 917]\n",
      "['34009', ['lisa', 'wilson'], 35, 847]\n"
     ]
    }
   ],
   "source": [
    "def get_client_by_cat(users, id_index, name_index, age_index, cat_index, amount_index, filter_category):\n",
    "\n",
    "    matching_users = []\n",
    "\n",
    "    for user in users:\n",
    "\n",
    "        if filter_category in user[cat_index]:\n",
    "            matching_users.append(\n",
    "                [user[id_index], user[name_index], user[age_index], sum(user[amount_index])])\n",
    "\n",
    "    return matching_users\n",
    "\n",
    "\n",
    "# La lista de usuarios\n",
    "users = [\n",
    "    ['32415', ['mike', 'reed'], 32, ['electronics', 'sport', 'books'], [894, 213, 173]],\n",
    "    ['31980', ['kate', 'morgan'], 24, ['clothes', 'books'], [439, 390]],\n",
    "    ['32156', ['john', 'doe'], 37, ['electronics', 'home', 'food'], [459, 120, 99]],\n",
    "    ['32761', ['samantha', 'smith'], 29, [\n",
    "        'clothes', 'electronics', 'beauty'], [299, 679, 85]],\n",
    "    ['32984', ['david', 'white'], 41, ['books', 'home', 'sport'], [234, 329, 243]],\n",
    "    ['33001', ['emily', 'brown'], 26, ['beauty', 'home', 'food'], [213, 659, 79]],\n",
    "    ['33767', ['maria', 'garcia'], 33, ['clothes', 'food', 'beauty'], [499, 189, 63]],\n",
    "    ['33912', ['jose', 'martinez'], 22, [\n",
    "        'sport', 'electronics', 'home'], [259, 549, 109]],\n",
    "    ['34009', ['lisa', 'wilson'], 35, ['home', 'books', 'clothes'], [329, 189, 329]],\n",
    "    ['34278', ['james', 'lee'], 28, [\n",
    "        'beauty', 'clothes', 'electronics'], [189, 299, 579]]\n",
    "]\n",
    "\n",
    "# Llama a la función con la categoría 'home'\n",
    "\n",
    "results = get_client_by_cat(users, 0, 1, 2, 3, 4, 'home')\n",
    "\n",
    "for result in results:\n",
    "    print(result)"
   ]
  },
  {
   "cell_type": "markdown",
   "id": "757f0660",
   "metadata": {},
   "source": [
    "********Hint********\n",
    "\n",
    "Use a for loop to iterate over each user in the list. For each user, check that the desired category (\"filter_category\") is in their shopping category list. If the category is found, calculate the total amount spent by adding the amounts in the corresponding list. Then, create a sublist with the user's ID, name (as a list of first and last names), age, and total amount spent. Add this sublist to the resulting final list."
   ]
  }
 ],
 "metadata": {
  "kernelspec": {
   "display_name": "Win11_Python-PipVenv-Github-Hmb7GD39",
   "language": "python",
   "name": "python3"
  },
  "language_info": {
   "codemirror_mode": {
    "name": "ipython",
    "version": 3
   },
   "file_extension": ".py",
   "mimetype": "text/x-python",
   "name": "python",
   "nbconvert_exporter": "python",
   "pygments_lexer": "ipython3",
   "version": "3.13.2"
  }
 },
 "nbformat": 4,
 "nbformat_minor": 5
}
